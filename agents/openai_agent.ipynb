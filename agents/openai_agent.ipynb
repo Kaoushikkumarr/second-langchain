{
 "cells": [
  {
   "cell_type": "markdown",
   "id": "66d8633e",
   "metadata": {},
   "source": [
    "## RAG Agent with Multi Data Source Implementation LLMs."
   ]
  },
  {
   "cell_type": "code",
   "execution_count": null,
   "id": "f47ae077",
   "metadata": {},
   "outputs": [],
   "source": [
    "import os\n",
    "from dotenv import load_dotenv\n",
    "\n",
    "\n",
    "# Load environment variables from .env file\n",
    "load_dotenv()\n",
    "\n",
    "# environment variables call\n",
    "os.environ[\"OPENAI_API_KEY\"] = os.getenv(\"OPENAI_API_KEY\")\n",
    "\n",
    "# Langchain Tracking\n",
    "os.environ[\"LANGCHAIN_API_KEY\"] = os.getenv(\"LANGCHAIN_API_KEY\")\n",
    "os.environ[\"LANGCHAIN_TRACING_V2\"] = \"true\""
   ]
  },
  {
   "cell_type": "code",
   "execution_count": null,
   "id": "962d97ae",
   "metadata": {},
   "outputs": [],
   "source": [
    "## WifiPedia Tool\n",
    "\n",
    "from langchain_community.tools import WikipediaQueryRun\n",
    "from langchain_community.utilities import WikipediaAPIWrapper\n",
    "\n",
    "api_wrapper = WikipediaAPIWrapper(top_k_results=1, doc_content_chars_max=250)\n",
    "wiki_tool = WikipediaQueryRun(api_wrapper=api_wrapper)\n",
    "wiki_tool"
   ]
  },
  {
   "cell_type": "code",
   "execution_count": null,
   "id": "5c1dbf00",
   "metadata": {},
   "outputs": [],
   "source": [
    "## Arxiv Tool\n",
    "\n",
    "from langchain_community.tools import ArxivQueryRun\n",
    "from langchain_community.utilities import ArxivAPIWrapper\n",
    "\n",
    "arxiv_api_wapper = ArxivAPIWrapper(top_k_results=1, doc_content_chars_max=250)\n",
    "arxiv_tool = ArxivQueryRun(api_wrapper=arxiv_api_wapper)\n",
    "arxiv_tool"
   ]
  },
  {
   "cell_type": "code",
   "execution_count": null,
   "id": "f7e5b3da",
   "metadata": {},
   "outputs": [],
   "source": [
    "## Own Custom Tool\n",
    "\n",
    "from langchain_community.document_loaders import WebBaseLoader\n",
    "from langchain_community.vectorstores import FAISS\n",
    "\n",
    "from langchain_text_splitters import RecursiveCharacterTextSplitter\n",
    "from langchain_community.embeddings import HuggingFaceEmbeddings\n",
    "\n",
    "loader = WebBaseLoader(os.getenv(\"WEB_BASE_URL\"))\n",
    "docs = loader.load()\n",
    "\n",
    "# Split documents into chunks\n",
    "documents = RecursiveCharacterTextSplitter(chunk_size=1000, chunk_overlap=200).split_documents(docs)\n",
    "\n",
    "# Use HuggingFaceEmbeddings for vectorization\n",
    "vectorstore = FAISS.from_documents(documents, HuggingFaceEmbeddings(model_name=\"sentence-transformers/all-MiniLM-L6-v2\"))\n",
    "\n",
    "# Create a retriever from the vectorstore\n",
    "retriever = vectorstore.as_retriever()\n",
    "retriever"
   ]
  },
  {
   "cell_type": "code",
   "execution_count": null,
   "id": "5f409d2f",
   "metadata": {},
   "outputs": [],
   "source": [
    "# Create a custom tool for the retriever\n",
    "\n",
    "from langchain.tools.retriever import create_retriever_tool\n",
    "\n",
    "custom_tool = create_retriever_tool(\n",
    "    retriever=retriever, # This is the retriever we created as Document Retriever\n",
    "    name=\"langchain_search\", # This is the name of the tool\n",
    "    description=\"Search information about Langchain\" # This is the description of the tool\n",
    ")\n",
    "custom_tool"
   ]
  },
  {
   "cell_type": "code",
   "execution_count": null,
   "id": "f6bbb23d",
   "metadata": {},
   "outputs": [],
   "source": [
    "# Importing the tools into the agent\n",
    "\n",
    "tools = [wiki_tool, custom_tool, arxiv_tool]\n",
    "tools"
   ]
  },
  {
   "cell_type": "code",
   "execution_count": null,
   "id": "86d8e5c9",
   "metadata": {},
   "outputs": [],
   "source": [
    "## Importing the tools into the agent \n",
    "\n",
    "from langchain_openai import ChatOpenAI\n",
    "\n",
    "llm = ChatOpenAI(\n",
    "    model=\"gpt-3.5-turbo-0125\",\n",
    "    temperature=0\n",
    ")\n",
    "llm"
   ]
  },
  {
   "cell_type": "code",
   "execution_count": null,
   "id": "6c527e72",
   "metadata": {},
   "outputs": [],
   "source": [
    "## Prompt Template\n",
    "from langchain import hub\n",
    "\n",
    "prompt = hub.pull(\"hwchase17/openai-functions-agent\") # Use of hub to pull the prompt template\n",
    "prompt.messages\n"
   ]
  },
  {
   "cell_type": "code",
   "execution_count": null,
   "id": "22f987f1",
   "metadata": {},
   "outputs": [],
   "source": [
    "## Agents\n",
    "from langchain.agents import create_openai_functions_agent\n",
    "\n",
    "agent = create_openai_functions_agent(\n",
    "    llm=llm,\n",
    "    tools=tools,\n",
    "    prompt=prompt\n",
    ")\n",
    "agent"
   ]
  },
  {
   "cell_type": "code",
   "execution_count": null,
   "id": "c34aeed1",
   "metadata": {},
   "outputs": [],
   "source": [
    "# Create a retrieval chain with the retriever and agent\n",
    "\n",
    "from langchain.chains import create_retrieval_chain\n",
    "\n",
    "retrieval_chain = create_retrieval_chain(\n",
    "    retriever,\n",
    "    agent\n",
    ")\n",
    "retrieval_chain"
   ]
  },
  {
   "cell_type": "code",
   "execution_count": null,
   "id": "202c2eaf",
   "metadata": {},
   "outputs": [],
   "source": [
    "## To run Agent we need Agent Executor\n",
    "\n",
    "from langchain.agents import AgentExecutor\n",
    "\n",
    "agent_executor = AgentExecutor(\n",
    "    agent=retrieval_chain,\n",
    "    tools=tools,\n",
    "    verbose=True,\n",
    "    return_intermediate_steps=True\n",
    ")\n",
    "agent_executor"
   ]
  },
  {
   "cell_type": "code",
   "execution_count": null,
   "id": "8c7fba0a",
   "metadata": {},
   "outputs": [],
   "source": [
    "## Run the agent executor with a query\n",
    "query = \"What is Langchain? What are its use cases?\"\n",
    "response = agent_executor.invoke({\"input\": query})\n",
    "print(response['answer'])"
   ]
  },
  {
   "cell_type": "code",
   "execution_count": null,
   "id": "81ff273e",
   "metadata": {},
   "outputs": [],
   "source": [
    "response1 = agent_executor.invoke({\"input\": \"What's the paper 1605.08386 about\"})\n",
    "response1[\"answer\"]"
   ]
  }
 ],
 "metadata": {
  "kernelspec": {
   "display_name": "venv",
   "language": "python",
   "name": "python3"
  },
  "language_info": {
   "codemirror_mode": {
    "name": "ipython",
    "version": 3
   },
   "file_extension": ".py",
   "mimetype": "text/x-python",
   "name": "python",
   "nbconvert_exporter": "python",
   "pygments_lexer": "ipython3",
   "version": "3.11.0"
  }
 },
 "nbformat": 4,
 "nbformat_minor": 5
}
