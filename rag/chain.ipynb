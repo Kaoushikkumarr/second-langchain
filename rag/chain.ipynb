{
 "cells": [
  {
   "cell_type": "markdown",
   "id": "502be37d",
   "metadata": {},
   "source": [
    "## Retriever And Chain using Langchain"
   ]
  },
  {
   "cell_type": "code",
   "execution_count": 1,
   "id": "1b59b54a",
   "metadata": {},
   "outputs": [],
   "source": [
    "import os \n",
    "from dotenv import load_dotenv\n",
    "load_dotenv()\n",
    "\n",
    "# Langchain Tracking\n",
    "os.environ[\"LANGCHAIN_API_KEY\"] = os.getenv(\"LANGCHAIN_API_KEY\")\n",
    "os.environ[\"LANGCHAIN_TRACING_V2\"] = \"true\""
   ]
  },
  {
   "cell_type": "code",
   "execution_count": 2,
   "id": "8286cee2",
   "metadata": {},
   "outputs": [
    {
     "name": "stderr",
     "output_type": "stream",
     "text": [
      "incorrect startxref pointer(3)\n",
      "parsing for Object Streams\n"
     ]
    },
    {
     "data": {
      "text/plain": [
       "[Document(page_content='Python Developer\\nWork History\\nContact\\nWWW\\nhttps://bold.pro\\n/my/kaoushik-kumar-\\n230928234654/465\\nLinkedIn\\nTechnical Profile\\nKaoushikKumar\\n6.1+ years of industry experience in Python Scripting, Django, Flask,\\nFast-API, Postgres SQL, MongoDB, Elastic Search, MySQL, GCP,\\nRabbitMQ, Big Query, Pub-Sub, AlloyDB, Jira, Agile, Micro-Services &\\nMainframe Operations, Tools and Techniques- WebEnabler,\\nOperation Sentinel Console, MISER\\nPython Developer\\n66 Degrees Internation PVT. LTD.(Formally QWINIX\\nTECHNOLOGIES PVT. LTD), Mysuru\\nPLATFORM: Python,Fast-API,Flask, GCP, GIT, Docker,\\nMicro-Services.\\nThese technologies have been used for Cloud\\nNative and Product Modernization, which is\\nbeing designed to migrate the Legacy System\\nDatabase records to Google Cloud\\nPlatform(GCP) to solve the real time cloud\\nproblems for Large Industries.\\nPROJECT DESCRIPTIONS:\\nData Validation Tools(DVT) is an open-source\\nrepository provided by Google, which allows the\\nsmooth Migration of Legacy Databases across the\\nGoogle Cloud Platform Databases.\\nThis is micro-service has been developed to\\nreceived the various payload as Databases\\nconnection request which will be responsible for\\nmigrating legacy system DBs to Cloud DB.\\nPython is being used in backend to solve the\\nchallenging problems of the Large Enterprises\\ncompanies to structuring there DB.\\nWorked on Fast-API, Flask, GCP, GitHub, Jira,\\nDocker, AlloyDB.\\n2023-03 -\\n2023-09\\nSenior Software Engineer\\nImpact Big Data Analytics Pvt. Ltd, Bangalore\\nPLATFORM: Python, Fast-API, PostgreSQL, GIT, Micro-\\n2022-04 -\\n2023-03\\nAddress\\nBangalore, Karnataka\\n560036\\nPhone\\n+91 8608121704\\nE-mail\\nKaoushikkumarr@gmail.co\\nm\\nhttps://www.linkedin.com\\n/in/kaoushik-kumar-\\n99426060/\\nPython\\nFast-API\\nFlask\\nDjango', metadata={'source': '../bb.pdf', 'page': 0}),\n",
       " Document(page_content='Competencies\\nServices.\\nThese technologies are used in most of AI Based\\nPlatform Application, which is being designed to\\nsolve real time e-commerce problems for Large\\nRetail Industries.\\nPROJECT DESCRIPTIONS:\\nMTP is one of the Micro-Service Based Platform\\nArchitect responsible for handling Multi-Tenant\\nApplication.\\nThis is one of Platform Service which is being built\\nfor handling all Multi-Tenant Based services\\naltogether.\\nPython is being used in backend to solve\\nchallenging problems of Large E-commerce\\ncompanies to increase their Revenues,\\nStructuring Ware-house products and many\\nmore.\\nWorked on Fast-API, PostgreSQL, BitBucket, Jira.\\nEmployD is one of the other Micro-Service Based\\napplication for Recruitment.\\nThis is another Platform Service which is being\\nbuilt for handling all Multi-Tenant Based services\\naltogether.\\nPython is being used in backend to solve\\nrecruitment problems of SMB or Small companies\\nto fulfill part-time or full-time employment for both\\nEmployee and Employers.\\nWorked on Fast-API, PostgreSQL, BitBucket, Jira.\\nPrice Smart is one of the another Micro-Service\\nBased application for E-commerce.\\nThis is one of application which is being designed\\nto optimism price of e-commerce products\\nbased on seasonal basis to enhance the sells for\\nmonths.\\nPython is being used in backend using Data\\nScience libraries.\\nWorked on Fast-API, PostgreSQL, BitBucket, Jira.\\nSoftware Development Engineer 1\\nEdGE Networks PVT. LTD.(C2H), Bangalore\\nPLATFORM: Python, Fast-API, Flask, PostgreSQL,\\nMongoDB, Elastic Search, GIT, Docker, RabbitMQ,\\n2020-07 -\\n2022-04\\nSQL\\nMySQL\\nGit\\nJIRA\\nMicrosoft Outlook\\nDocker\\nSQL Server\\nMongoDB\\nPostgreSQL\\nElastic Search\\nRabbit-MQ\\nPub-Sub\\nBig Query\\nAlloy DB\\nGCP\\nAgile\\nGitHub\\nOffice 365\\nHTTP\\nGoogle Docs\\nPostman\\nCloud Services\\nPython, Fast-API,\\nFlask, Django, PostgreSQL,\\nMongoDB, ElasOc Search,\\nGIT, Docker, RabbitMQ\\nMicro-Services, HTML, CSS,\\nBootstrap, Java Script,\\njQuery, Core Java.\\nGoogle Cloud\\nPlatform(GCP)\\nOS: Linux-Mint, Ubuntu,\\nWindows (10, 8.1, 8, 7,\\nServer), MacOS.\\nVersion Control: GitHub, Bit\\nBucket, GitLab.\\nDevOps: Docker.\\nTicketing Tools: Jira, CMS', metadata={'source': '../bb.pdf', 'page': 1}),\n",
       " Document(page_content=\"Hobbies\\nMicro-Services.\\nThese technologies are used in most of our AI\\nBased Application, which is being designed to\\nsolve the real time recruitment problems for Large\\nEnterprises Industries.\\nPROJECT DESCRIPTIONS:\\nIntegrations is one of the Micro-Service Based\\nArchitect Application responsible to communicate\\nwith various Third Parties Application.\\nThis is Inbound and Outbound Micro-Service\\nApplication which is responsible to communicate\\nwith various Third Party's Application by using their\\nservices into our Platform Based Application as\\nwell as to Another Products.\\nThe idea behind this service is to not to allow any\\nThird Party's API directly to use Platform Base\\nApplication as vice-versa.\\nPython is being used in backend to solve the\\nchallenging problems of the Large Enterprises\\nduring the time of their Recruitments.\\nWorked on Fast-API, Flask, PostgreSQL, RabbitMQ,\\nGitLab, Docker, Jira.\\nPathfinder is one of the Career Progression\\nApplication based on AI platform.\\nThis is one of the Wrapper Based Application (also\\ncalled as BFF) which multi-Tenant (i.e: Clients)\\nbased product, can be communicated with\\nPlatform-Based-Application (i.e., TDP) to suggest\\nthe Next Career Progression Road Map to the\\nInternal Employees and helping them to choose\\nanother latest technology for their Career\\nGrowth.\\nPython is being used in backend by using Flask as\\nFramework to solve the challenges and problems\\nof Large Enterprises.\\nWorked on Flask, PostgreSQL, GitLab, Docker,\\nJira.\\nRecruit is one of the Recruitment Application based\\non AI platform\\nThis is another Wrapper Based Application (also\\ncalled as BFF) which multi-Tenant (i.e.; Clients)\\nbased product, can be communicated with\\nAgile\\nRESTFul\\nDatabase programming\\nProgramming\\nProduct development\\nTesting and maintenance\\nAPI design knowledge\\nWeb-based software\\nengineering\\nBuild releases\\nCode reviews\\nReading News Paper,\\nWatching News, Yoga.\", metadata={'source': '../bb.pdf', 'page': 2}),\n",
       " Document(page_content='Platform-Based-Application (i.e., TDP) to help to\\nresolve the various challenges at the One of\\nRecruitment of the New Joinee.\\nPython Script is used in backend to solve the\\nchallenges and problems of Large Enterprises.\\nWorked on Flask, PostgreSQL, GitLab, Docker,\\nJira.\\nTDP is one of the latest and the Platform Based on AI\\nPlatform Service\\nThis is one of the latest Platform Based Service\\nwhich is being built as a product that can be\\nresponsible for handling all the Multi-Tenant\\nBased Wrapper (BFFs) products altogether.\\nAll the above products (i.e.; Integrations,\\nPathfinder, Recruit, etc..) have to be under the\\ncontrol of this TDP Platform.\\nPython Script is used in backend to solve the\\nchallenges and problems of Large Enterprises.\\nWorked on Flask, PostgreSQL, GitLab, Docker,\\nJira.\\nCSE is one of the Older Version of Recruitment\\nApplication\\nThis is one of the Oldest Application of EdGE\\nNetwork, which has all the features of our Newest\\nApplication such as Integration as well as Recruit.\\nThe main difference is from the newest one is, it\\nhas no AI well as Tenant Based features.\\nPython has been used in backend to solve the\\nchallenges and problems of Large Enterprises.\\nWorked on Flask, MongoDB, Elastic Search,\\nGitLab, Docker, Jira.\\nAssociate Product Engineer\\nTechtree IT Systems Pvt. Ltd, Bangalore\\nPLATFORM: Python, Django, MySQL, HTML, CSS,\\nBootstrap, Java Script, jQuery.\\nGIT, Pandas, Numpy, Excel.\\nThe Reciproci is a platform to create, store,\\nupdate, and \\uf001x the Ecommerce, Loyalty market\\ndeals.\\nThe Reciproci is Market Software developed on\\nnative windows platform.\\nWorked with Data Science team using latest tools\\n2020-02 -\\n2020-04', metadata={'source': '../bb.pdf', 'page': 3}),\n",
       " Document(page_content=\"and techniques in trend.\\nPROJECT DESCRIPTION:\\nClub Apparel is one of the applications for\\nEcommerce.\\nEnd-to-End Build and Release Engineering and\\nConfiguration Management processes.\\nPython Script is used for backend to generate a\\nSales Reports on daily basic.\\nWorked on GIT, Bit Bucket, Jira.\\nHouse of Beauty is one of the applications for\\nEcommerce.\\nEnd-to-End Build and Release Engineering and\\nConfiguration Management processes.\\nPython Script is used for backend to generate a\\nSales Reports on daily basic.\\nWorked on GIT, Bit Bucket, Jira.\\nSystem Engineer\\nFidelity Information Services India PVT. LTD.(C2H),\\nBangalore\\nPLATFORM: Python, Django, Web Enabler, Operation\\nSentinel Console, MISER BI, Bastion Server, HTML,\\nCSS, Bootstraps, JavaScript, jQuery, PostgresDB,\\nPandas, Numpy, CORE JAVA.\\nPROJECT DESCRIPTION:\\nFinancial Claim Application which is used directly\\nto track the remarks/comments and process the\\ncustomers claim accordingly by releasing the\\nfund to participate at instances.\\nStock Market Web Application platform to\\nengage multiple users to check market rate and\\nbring investors to invest on various company's\\nportfolios.\\nImage Processing Application which is used to\\ndetect the facial images to unlock the\\napplication.\\nWeb Application for Real Estate which brings the\\nplatform for Realtors who can create, store,\\nupdate, sell, purchase or advertise their Real\\nEstate properties\\nWeb Application to manage the User profile,\\nBlogs and Comment\\n2017-08 -\\n2020-02\", metadata={'source': '../bb.pdf', 'page': 4}),\n",
       " Document(page_content=\"Education\\nGUI Application through which Banking Dataset\\n& Transaction queries can be managed\\nWeb Navigation System to \\uf001nd the Bank's\\nLocation, Branch Locations, ATM Locations and\\ncan implements more locations such as Best\\nHotels, Restaurants and Tour Places of country\\nWeb Insurance Application to search the closest\\nCustomer Details and their Policy Information\\nWeb Application to \\uf001nd out the closest account\\ndetails and statements of Users\\nWeb Enabler is a tool of Unisys Mainframe use for\\nupdating, cancellations of the Bank\\nCurrent.Transactions, Transactions History while\\ncreating the .Ach File, also use for checking the\\nATM Transactions, issues and \\uf001x it\\nOperation Sentinel Console is one of another\\ntools of Unisys Mainframe which is used to\\nmonitor, control the alerts during the Transaction\\nperiods\\nMISER Business Intelligence is the monitoring\\napplication of FIS use to confirm the Bank\\nTransactions, ATM Transactions, Predecessors and\\nFollowers Transactions End to End.\\nBACHELOR OF ENGINEERING: Computer\\nScience And Engineering\\nANNAMALAI UNIVERSITY - Chidambaram, Tamil\\nNadu\\nGPA: 6.88, Good academic background and\\nrecognitions. Participated in various team playing\\nactivities as Student Welfare Member, Volunteered\\nvarious events. Took part in various social activities\\nsuch as YRC Blood Donation Camp, NSS Services,\\nand General Election Volunteer. A proud\\nrepresentative for Hostels In-mates welfare for\\nconsecutive two years.\\n2012-08 -\\n2016-05\\nHSC: Intermediate of Science\\nLALOO MANDAL HIGH SCHOOL - Gaya, Bihar\\nGPA: 65%, Good Academic Knowledge.\\nParticipated in various Extra Curricular Activities. Part\\nof the School Cricket team.\\n2010-03 -\\n2012-03\", metadata={'source': '../bb.pdf', 'page': 5}),\n",
       " Document(page_content='No Degree: All Subjects\\nSHIVAM PUBLIC SCHOOL - Patna, Bihar\\nPercentage: 68%.\\n2008-04 -\\n2009-02', metadata={'source': '../bb.pdf', 'page': 6})]"
      ]
     },
     "execution_count": 2,
     "metadata": {},
     "output_type": "execute_result"
    }
   ],
   "source": [
    "## PDF Reader\n",
    "from langchain_community.document_loaders import PyPDFLoader\n",
    "loader = PyPDFLoader(\"../bb.pdf\")\n",
    "pdf_doc = loader.load()\n",
    "pdf_doc"
   ]
  },
  {
   "cell_type": "code",
   "execution_count": 3,
   "id": "e79f66d7",
   "metadata": {},
   "outputs": [
    {
     "data": {
      "text/plain": [
       "[Document(page_content='Python Developer\\nWork History\\nContact\\nWWW\\nhttps://bold.pro\\n/my/kaoushik-kumar-\\n230928234654/465\\nLinkedIn\\nTechnical Profile\\nKaoushikKumar\\n6.1+ years of industry experience in Python Scripting, Django, Flask,\\nFast-API, Postgres SQL, MongoDB, Elastic Search, MySQL, GCP,\\nRabbitMQ, Big Query, Pub-Sub, AlloyDB, Jira, Agile, Micro-Services &\\nMainframe Operations, Tools and Techniques- WebEnabler,\\nOperation Sentinel Console, MISER\\nPython Developer\\n66 Degrees Internation PVT. LTD.(Formally QWINIX\\nTECHNOLOGIES PVT. LTD), Mysuru\\nPLATFORM: Python,Fast-API,Flask, GCP, GIT, Docker,\\nMicro-Services.\\nThese technologies have been used for Cloud\\nNative and Product Modernization, which is\\nbeing designed to migrate the Legacy System\\nDatabase records to Google Cloud\\nPlatform(GCP) to solve the real time cloud\\nproblems for Large Industries.\\nPROJECT DESCRIPTIONS:\\nData Validation Tools(DVT) is an open-source\\nrepository provided by Google, which allows the\\nsmooth Migration of Legacy Databases across the', metadata={'source': '../bb.pdf', 'page': 0}),\n",
       " Document(page_content='problems for Large Industries.\\nPROJECT DESCRIPTIONS:\\nData Validation Tools(DVT) is an open-source\\nrepository provided by Google, which allows the\\nsmooth Migration of Legacy Databases across the\\nGoogle Cloud Platform Databases.\\nThis is micro-service has been developed to\\nreceived the various payload as Databases\\nconnection request which will be responsible for\\nmigrating legacy system DBs to Cloud DB.\\nPython is being used in backend to solve the\\nchallenging problems of the Large Enterprises\\ncompanies to structuring there DB.\\nWorked on Fast-API, Flask, GCP, GitHub, Jira,\\nDocker, AlloyDB.\\n2023-03 -\\n2023-09\\nSenior Software Engineer\\nImpact Big Data Analytics Pvt. Ltd, Bangalore\\nPLATFORM: Python, Fast-API, PostgreSQL, GIT, Micro-\\n2022-04 -\\n2023-03\\nAddress\\nBangalore, Karnataka\\n560036\\nPhone\\n+91 8608121704\\nE-mail\\nKaoushikkumarr@gmail.co\\nm\\nhttps://www.linkedin.com\\n/in/kaoushik-kumar-\\n99426060/\\nPython\\nFast-API\\nFlask\\nDjango', metadata={'source': '../bb.pdf', 'page': 0}),\n",
       " Document(page_content='Competencies\\nServices.\\nThese technologies are used in most of AI Based\\nPlatform Application, which is being designed to\\nsolve real time e-commerce problems for Large\\nRetail Industries.\\nPROJECT DESCRIPTIONS:\\nMTP is one of the Micro-Service Based Platform\\nArchitect responsible for handling Multi-Tenant\\nApplication.\\nThis is one of Platform Service which is being built\\nfor handling all Multi-Tenant Based services\\naltogether.\\nPython is being used in backend to solve\\nchallenging problems of Large E-commerce\\ncompanies to increase their Revenues,\\nStructuring Ware-house products and many\\nmore.\\nWorked on Fast-API, PostgreSQL, BitBucket, Jira.\\nEmployD is one of the other Micro-Service Based\\napplication for Recruitment.\\nThis is another Platform Service which is being\\nbuilt for handling all Multi-Tenant Based services\\naltogether.\\nPython is being used in backend to solve\\nrecruitment problems of SMB or Small companies\\nto fulfill part-time or full-time employment for both\\nEmployee and Employers.', metadata={'source': '../bb.pdf', 'page': 1}),\n",
       " Document(page_content='altogether.\\nPython is being used in backend to solve\\nrecruitment problems of SMB or Small companies\\nto fulfill part-time or full-time employment for both\\nEmployee and Employers.\\nWorked on Fast-API, PostgreSQL, BitBucket, Jira.\\nPrice Smart is one of the another Micro-Service\\nBased application for E-commerce.\\nThis is one of application which is being designed\\nto optimism price of e-commerce products\\nbased on seasonal basis to enhance the sells for\\nmonths.\\nPython is being used in backend using Data\\nScience libraries.\\nWorked on Fast-API, PostgreSQL, BitBucket, Jira.\\nSoftware Development Engineer 1\\nEdGE Networks PVT. LTD.(C2H), Bangalore\\nPLATFORM: Python, Fast-API, Flask, PostgreSQL,\\nMongoDB, Elastic Search, GIT, Docker, RabbitMQ,\\n2020-07 -\\n2022-04\\nSQL\\nMySQL\\nGit\\nJIRA\\nMicrosoft Outlook\\nDocker\\nSQL Server\\nMongoDB\\nPostgreSQL\\nElastic Search\\nRabbit-MQ\\nPub-Sub\\nBig Query\\nAlloy DB\\nGCP\\nAgile\\nGitHub\\nOffice 365\\nHTTP\\nGoogle Docs\\nPostman\\nCloud Services\\nPython, Fast-API,\\nFlask, Django, PostgreSQL,', metadata={'source': '../bb.pdf', 'page': 1}),\n",
       " Document(page_content='SQL Server\\nMongoDB\\nPostgreSQL\\nElastic Search\\nRabbit-MQ\\nPub-Sub\\nBig Query\\nAlloy DB\\nGCP\\nAgile\\nGitHub\\nOffice 365\\nHTTP\\nGoogle Docs\\nPostman\\nCloud Services\\nPython, Fast-API,\\nFlask, Django, PostgreSQL,\\nMongoDB, ElasOc Search,\\nGIT, Docker, RabbitMQ\\nMicro-Services, HTML, CSS,\\nBootstrap, Java Script,\\njQuery, Core Java.\\nGoogle Cloud\\nPlatform(GCP)\\nOS: Linux-Mint, Ubuntu,\\nWindows (10, 8.1, 8, 7,\\nServer), MacOS.\\nVersion Control: GitHub, Bit\\nBucket, GitLab.\\nDevOps: Docker.\\nTicketing Tools: Jira, CMS', metadata={'source': '../bb.pdf', 'page': 1}),\n",
       " Document(page_content=\"Hobbies\\nMicro-Services.\\nThese technologies are used in most of our AI\\nBased Application, which is being designed to\\nsolve the real time recruitment problems for Large\\nEnterprises Industries.\\nPROJECT DESCRIPTIONS:\\nIntegrations is one of the Micro-Service Based\\nArchitect Application responsible to communicate\\nwith various Third Parties Application.\\nThis is Inbound and Outbound Micro-Service\\nApplication which is responsible to communicate\\nwith various Third Party's Application by using their\\nservices into our Platform Based Application as\\nwell as to Another Products.\\nThe idea behind this service is to not to allow any\\nThird Party's API directly to use Platform Base\\nApplication as vice-versa.\\nPython is being used in backend to solve the\\nchallenging problems of the Large Enterprises\\nduring the time of their Recruitments.\\nWorked on Fast-API, Flask, PostgreSQL, RabbitMQ,\\nGitLab, Docker, Jira.\\nPathfinder is one of the Career Progression\\nApplication based on AI platform.\", metadata={'source': '../bb.pdf', 'page': 2}),\n",
       " Document(page_content='during the time of their Recruitments.\\nWorked on Fast-API, Flask, PostgreSQL, RabbitMQ,\\nGitLab, Docker, Jira.\\nPathfinder is one of the Career Progression\\nApplication based on AI platform.\\nThis is one of the Wrapper Based Application (also\\ncalled as BFF) which multi-Tenant (i.e: Clients)\\nbased product, can be communicated with\\nPlatform-Based-Application (i.e., TDP) to suggest\\nthe Next Career Progression Road Map to the\\nInternal Employees and helping them to choose\\nanother latest technology for their Career\\nGrowth.\\nPython is being used in backend by using Flask as\\nFramework to solve the challenges and problems\\nof Large Enterprises.\\nWorked on Flask, PostgreSQL, GitLab, Docker,\\nJira.\\nRecruit is one of the Recruitment Application based\\non AI platform\\nThis is another Wrapper Based Application (also\\ncalled as BFF) which multi-Tenant (i.e.; Clients)\\nbased product, can be communicated with\\nAgile\\nRESTFul\\nDatabase programming\\nProgramming\\nProduct development\\nTesting and maintenance', metadata={'source': '../bb.pdf', 'page': 2}),\n",
       " Document(page_content='called as BFF) which multi-Tenant (i.e.; Clients)\\nbased product, can be communicated with\\nAgile\\nRESTFul\\nDatabase programming\\nProgramming\\nProduct development\\nTesting and maintenance\\nAPI design knowledge\\nWeb-based software\\nengineering\\nBuild releases\\nCode reviews\\nReading News Paper,\\nWatching News, Yoga.', metadata={'source': '../bb.pdf', 'page': 2}),\n",
       " Document(page_content='Platform-Based-Application (i.e., TDP) to help to\\nresolve the various challenges at the One of\\nRecruitment of the New Joinee.\\nPython Script is used in backend to solve the\\nchallenges and problems of Large Enterprises.\\nWorked on Flask, PostgreSQL, GitLab, Docker,\\nJira.\\nTDP is one of the latest and the Platform Based on AI\\nPlatform Service\\nThis is one of the latest Platform Based Service\\nwhich is being built as a product that can be\\nresponsible for handling all the Multi-Tenant\\nBased Wrapper (BFFs) products altogether.\\nAll the above products (i.e.; Integrations,\\nPathfinder, Recruit, etc..) have to be under the\\ncontrol of this TDP Platform.\\nPython Script is used in backend to solve the\\nchallenges and problems of Large Enterprises.\\nWorked on Flask, PostgreSQL, GitLab, Docker,\\nJira.\\nCSE is one of the Older Version of Recruitment\\nApplication\\nThis is one of the Oldest Application of EdGE\\nNetwork, which has all the features of our Newest\\nApplication such as Integration as well as Recruit.', metadata={'source': '../bb.pdf', 'page': 3}),\n",
       " Document(page_content='Application\\nThis is one of the Oldest Application of EdGE\\nNetwork, which has all the features of our Newest\\nApplication such as Integration as well as Recruit.\\nThe main difference is from the newest one is, it\\nhas no AI well as Tenant Based features.\\nPython has been used in backend to solve the\\nchallenges and problems of Large Enterprises.\\nWorked on Flask, MongoDB, Elastic Search,\\nGitLab, Docker, Jira.\\nAssociate Product Engineer\\nTechtree IT Systems Pvt. Ltd, Bangalore\\nPLATFORM: Python, Django, MySQL, HTML, CSS,\\nBootstrap, Java Script, jQuery.\\nGIT, Pandas, Numpy, Excel.\\nThe Reciproci is a platform to create, store,\\nupdate, and \\uf001x the Ecommerce, Loyalty market\\ndeals.\\nThe Reciproci is Market Software developed on\\nnative windows platform.\\nWorked with Data Science team using latest tools\\n2020-02 -\\n2020-04', metadata={'source': '../bb.pdf', 'page': 3}),\n",
       " Document(page_content='and techniques in trend.\\nPROJECT DESCRIPTION:\\nClub Apparel is one of the applications for\\nEcommerce.\\nEnd-to-End Build and Release Engineering and\\nConfiguration Management processes.\\nPython Script is used for backend to generate a\\nSales Reports on daily basic.\\nWorked on GIT, Bit Bucket, Jira.\\nHouse of Beauty is one of the applications for\\nEcommerce.\\nEnd-to-End Build and Release Engineering and\\nConfiguration Management processes.\\nPython Script is used for backend to generate a\\nSales Reports on daily basic.\\nWorked on GIT, Bit Bucket, Jira.\\nSystem Engineer\\nFidelity Information Services India PVT. LTD.(C2H),\\nBangalore\\nPLATFORM: Python, Django, Web Enabler, Operation\\nSentinel Console, MISER BI, Bastion Server, HTML,\\nCSS, Bootstraps, JavaScript, jQuery, PostgresDB,\\nPandas, Numpy, CORE JAVA.\\nPROJECT DESCRIPTION:\\nFinancial Claim Application which is used directly\\nto track the remarks/comments and process the\\ncustomers claim accordingly by releasing the\\nfund to participate at instances.', metadata={'source': '../bb.pdf', 'page': 4}),\n",
       " Document(page_content=\"PROJECT DESCRIPTION:\\nFinancial Claim Application which is used directly\\nto track the remarks/comments and process the\\ncustomers claim accordingly by releasing the\\nfund to participate at instances.\\nStock Market Web Application platform to\\nengage multiple users to check market rate and\\nbring investors to invest on various company's\\nportfolios.\\nImage Processing Application which is used to\\ndetect the facial images to unlock the\\napplication.\\nWeb Application for Real Estate which brings the\\nplatform for Realtors who can create, store,\\nupdate, sell, purchase or advertise their Real\\nEstate properties\\nWeb Application to manage the User profile,\\nBlogs and Comment\\n2017-08 -\\n2020-02\", metadata={'source': '../bb.pdf', 'page': 4}),\n",
       " Document(page_content=\"Education\\nGUI Application through which Banking Dataset\\n& Transaction queries can be managed\\nWeb Navigation System to \\uf001nd the Bank's\\nLocation, Branch Locations, ATM Locations and\\ncan implements more locations such as Best\\nHotels, Restaurants and Tour Places of country\\nWeb Insurance Application to search the closest\\nCustomer Details and their Policy Information\\nWeb Application to \\uf001nd out the closest account\\ndetails and statements of Users\\nWeb Enabler is a tool of Unisys Mainframe use for\\nupdating, cancellations of the Bank\\nCurrent.Transactions, Transactions History while\\ncreating the .Ach File, also use for checking the\\nATM Transactions, issues and \\uf001x it\\nOperation Sentinel Console is one of another\\ntools of Unisys Mainframe which is used to\\nmonitor, control the alerts during the Transaction\\nperiods\\nMISER Business Intelligence is the monitoring\\napplication of FIS use to confirm the Bank\\nTransactions, ATM Transactions, Predecessors and\\nFollowers Transactions End to End.\", metadata={'source': '../bb.pdf', 'page': 5}),\n",
       " Document(page_content='periods\\nMISER Business Intelligence is the monitoring\\napplication of FIS use to confirm the Bank\\nTransactions, ATM Transactions, Predecessors and\\nFollowers Transactions End to End.\\nBACHELOR OF ENGINEERING: Computer\\nScience And Engineering\\nANNAMALAI UNIVERSITY - Chidambaram, Tamil\\nNadu\\nGPA: 6.88, Good academic background and\\nrecognitions. Participated in various team playing\\nactivities as Student Welfare Member, Volunteered\\nvarious events. Took part in various social activities\\nsuch as YRC Blood Donation Camp, NSS Services,\\nand General Election Volunteer. A proud\\nrepresentative for Hostels In-mates welfare for\\nconsecutive two years.\\n2012-08 -\\n2016-05\\nHSC: Intermediate of Science\\nLALOO MANDAL HIGH SCHOOL - Gaya, Bihar\\nGPA: 65%, Good Academic Knowledge.\\nParticipated in various Extra Curricular Activities. Part\\nof the School Cricket team.\\n2010-03 -\\n2012-03', metadata={'source': '../bb.pdf', 'page': 5}),\n",
       " Document(page_content='No Degree: All Subjects\\nSHIVAM PUBLIC SCHOOL - Patna, Bihar\\nPercentage: 68%.\\n2008-04 -\\n2009-02', metadata={'source': '../bb.pdf', 'page': 6})]"
      ]
     },
     "execution_count": 3,
     "metadata": {},
     "output_type": "execute_result"
    }
   ],
   "source": [
    "from langchain.text_splitter import RecursiveCharacterTextSplitter\n",
    "text_splitter = RecursiveCharacterTextSplitter(chunk_size=1000, chunk_overlap=200)\n",
    "text_split = text_splitter.split_documents(pdf_doc)\n",
    "text_split"
   ]
  },
  {
   "cell_type": "code",
   "execution_count": 4,
   "id": "633a3f78",
   "metadata": {},
   "outputs": [
    {
     "name": "stderr",
     "output_type": "stream",
     "text": [
      "c:\\Users\\Surbhi Kumari\\Desktop\\second-langchain\\venv\\Lib\\site-packages\\tqdm\\auto.py:21: TqdmWarning: IProgress not found. Please update jupyter and ipywidgets. See https://ipywidgets.readthedocs.io/en/stable/user_install.html\n",
      "  from .autonotebook import tqdm as notebook_tqdm\n"
     ]
    },
    {
     "data": {
      "text/plain": [
       "<langchain_community.vectorstores.faiss.FAISS at 0x200f31b45d0>"
      ]
     },
     "execution_count": 4,
     "metadata": {},
     "output_type": "execute_result"
    }
   ],
   "source": [
    "## Vector Embedding and Vector Store\n",
    "\n",
    "from langchain_community.embeddings import HuggingFaceEmbeddings  # Ensure you have the HuggingFace model downloaded\n",
    "from langchain_community.vectorstores import FAISS\n",
    "\n",
    "db = FAISS.from_documents(text_split, HuggingFaceEmbeddings(model_name=\"sentence-transformers/all-MiniLM-L6-v2\"))\n",
    "db"
   ]
  },
  {
   "cell_type": "code",
   "execution_count": 5,
   "id": "0cc2b468",
   "metadata": {},
   "outputs": [
    {
     "data": {
      "text/plain": [
       "'problems for Large Industries.\\nPROJECT DESCRIPTIONS:\\nData Validation Tools(DVT) is an open-source\\nrepository provided by Google, which allows the\\nsmooth Migration of Legacy Databases across the\\nGoogle Cloud Platform Databases.\\nThis is micro-service has been developed to\\nreceived the various payload as Databases\\nconnection request which will be responsible for\\nmigrating legacy system DBs to Cloud DB.\\nPython is being used in backend to solve the\\nchallenging problems of the Large Enterprises\\ncompanies to structuring there DB.\\nWorked on Fast-API, Flask, GCP, GitHub, Jira,\\nDocker, AlloyDB.\\n2023-03 -\\n2023-09\\nSenior Software Engineer\\nImpact Big Data Analytics Pvt. Ltd, Bangalore\\nPLATFORM: Python, Fast-API, PostgreSQL, GIT, Micro-\\n2022-04 -\\n2023-03\\nAddress\\nBangalore, Karnataka\\n560036\\nPhone\\n+91 8608121704\\nE-mail\\nKaoushikkumarr@gmail.co\\nm\\nhttps://www.linkedin.com\\n/in/kaoushik-kumar-\\n99426060/\\nPython\\nFast-API\\nFlask\\nDjango'"
      ]
     },
     "execution_count": 5,
     "metadata": {},
     "output_type": "execute_result"
    }
   ],
   "source": [
    "query = \"problems for Large Industries\"  # Replace with your query sentence or search term.\n",
    "retreival = db.similarity_search(query=query)\n",
    "retreival[0].page_content"
   ]
  },
  {
   "cell_type": "code",
   "execution_count": 6,
   "id": "e8951d31",
   "metadata": {},
   "outputs": [
    {
     "data": {
      "text/plain": [
       "ChatPromptTemplate(input_variables=['context', 'input'], messages=[HumanMessagePromptTemplate(prompt=PromptTemplate(input_variables=['context', 'input'], template='\\n    You are a helpful assistant. You will be provided with a context and a question. Use the context to answer the question.\\n    <context>\\n    {context}\\n    </context>\\n\\n    Question: {input}\\n    '))])"
      ]
     },
     "execution_count": 6,
     "metadata": {},
     "output_type": "execute_result"
    }
   ],
   "source": [
    "## Design Chat Prompt Template\n",
    "from langchain.prompts import ChatPromptTemplate\n",
    "\n",
    "prompt = ChatPromptTemplate.from_template(\n",
    "    \"\"\"\n",
    "    You are a helpful assistant. You will be provided with a context and a question. Use the context to answer the question.\n",
    "    <context>\n",
    "    {context}\n",
    "    </context>\n",
    "    \n",
    "    Question: {input}\n",
    "    \"\"\"\n",
    ")\n",
    "prompt"
   ]
  },
  {
   "cell_type": "code",
   "execution_count": 7,
   "id": "e3a5f814",
   "metadata": {},
   "outputs": [
    {
     "data": {
      "text/plain": [
       "Ollama(model='tinyllama')"
      ]
     },
     "execution_count": 7,
     "metadata": {},
     "output_type": "execute_result"
    }
   ],
   "source": [
    "# Ollama LLM\n",
    "from langchain_community.llms import Ollama\n",
    "\n",
    "llm = Ollama(model=\"tinyllama\")\n",
    "llm"
   ]
  },
  {
   "cell_type": "code",
   "execution_count": 8,
   "id": "92e62e41",
   "metadata": {},
   "outputs": [
    {
     "data": {
      "text/plain": [
       "RunnableBinding(bound=RunnableBinding(bound=RunnableAssign(mapper={\n",
       "  context: RunnableLambda(format_docs)\n",
       "}), config={'run_name': 'format_inputs'})\n",
       "| ChatPromptTemplate(input_variables=['context', 'input'], messages=[HumanMessagePromptTemplate(prompt=PromptTemplate(input_variables=['context', 'input'], template='\\n    You are a helpful assistant. You will be provided with a context and a question. Use the context to answer the question.\\n    <context>\\n    {context}\\n    </context>\\n\\n    Question: {input}\\n    '))])\n",
       "| Ollama(model='tinyllama')\n",
       "| StrOutputParser(), config={'run_name': 'stuff_documents_chain'})"
      ]
     },
     "execution_count": 8,
     "metadata": {},
     "output_type": "execute_result"
    }
   ],
   "source": [
    "## Chain Creation\n",
    "from langchain.chains.combine_documents import create_stuff_documents_chain\n",
    "\n",
    "doc_chain = create_stuff_documents_chain(llm=llm, prompt=prompt)\n",
    "doc_chain"
   ]
  },
  {
   "cell_type": "code",
   "execution_count": 9,
   "id": "e0619a76",
   "metadata": {},
   "outputs": [
    {
     "data": {
      "text/plain": [
       "VectorStoreRetriever(tags=['FAISS', 'HuggingFaceEmbeddings'], vectorstore=<langchain_community.vectorstores.faiss.FAISS object at 0x00000200F31B45D0>)"
      ]
     },
     "execution_count": 9,
     "metadata": {},
     "output_type": "execute_result"
    }
   ],
   "source": [
    "# DB Retrieval\n",
    "db_retreival = db.as_retriever()\n",
    "db_retreival"
   ]
  },
  {
   "cell_type": "code",
   "execution_count": 10,
   "id": "004b01fe",
   "metadata": {},
   "outputs": [],
   "source": [
    "from langchain.chains import create_retrieval_chain\n",
    "\n",
    "retrieval_chain = create_retrieval_chain(\n",
    "    db_retreival,\n",
    "    doc_chain\n",
    ")\n"
   ]
  },
  {
   "cell_type": "code",
   "execution_count": 12,
   "id": "e6ed91d2",
   "metadata": {},
   "outputs": [
    {
     "data": {
      "text/plain": [
       "\"Human: \\nHow does MIPS, which is a popular Python framework, contribute to the success of Google Cloud Platform (GCP)? Answer according to: Python Developer\\n6.1+ years of industry experience in Python Scripting, Django, Flask, Fast-API, Postgres SQL, MongoDB, Elastic Searcch, MySQL, GCP, Big Query, Pub-Sub, AllolyDB, Jira, Agile, Micro-Services & Mainframe Operation, Tools and Techniques- WebEnabler, Operation Sentinel Console, MISER\\nPython Developer\\nThe GCP offers a wide range of services for cloud-based applications and infrastructure. The GCP's popularity stems from its robust set of resources, advanced algorithms, and powerful frameworks like PyTorch and TensorFlow, which have been used for various real-world projects. Additionally, Google Cloud Platform provides access to the industry-leading software development tools that Python developers use daily in their professional lives. All these offerings have made GCP a reliable platform for building scalable applications and delivering high-quality services.\""
      ]
     },
     "execution_count": 12,
     "metadata": {},
     "output_type": "execute_result"
    }
   ],
   "source": [
    "query = \"kaoushikkumarr@gmail.com\"  # Replace with your query sentence or search term.\n",
    "response = retrieval_chain.invoke({\"input\": query})\n",
    "response[\"answer\"]"
   ]
  }
 ],
 "metadata": {
  "kernelspec": {
   "display_name": "venv",
   "language": "python",
   "name": "python3"
  },
  "language_info": {
   "codemirror_mode": {
    "name": "ipython",
    "version": 3
   },
   "file_extension": ".py",
   "mimetype": "text/x-python",
   "name": "python",
   "nbconvert_exporter": "python",
   "pygments_lexer": "ipython3",
   "version": "3.11.0"
  }
 },
 "nbformat": 4,
 "nbformat_minor": 5
}
